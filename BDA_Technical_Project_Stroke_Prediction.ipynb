{
  "nbformat": 4,
  "nbformat_minor": 0,
  "metadata": {
    "colab": {
      "name": "BDA Technical Project - Stroke Prediction.ipynb",
      "provenance": []
    },
    "kernelspec": {
      "name": "python3",
      "display_name": "Python 3"
    },
    "language_info": {
      "name": "python"
    }
  },
  "cells": [
    {
      "cell_type": "code",
      "execution_count": 1,
      "metadata": {
        "id": "OS3GK1r5v3UM"
      },
      "outputs": [],
      "source": [
        "%%capture\n",
        "!apt install libkrb5-dev\n",
        "!wget https://downloads.apache.org/spark/spark-3.1.2/spark-3.1.2-bin-hadoop3.2.tgz\n",
        "!tar xf spark-3.1.2-bin-hadoop3.2.tgz\n",
        "!pip install findspark\n",
        "!pip install sparkmagic\n",
        "!pip install pyspark\n",
        "! pip install pyspark --user"
      ]
    },
    {
      "cell_type": "code",
      "source": [
        "%%capture\n",
        "!apt update\n",
        "!apt install gcc python-dev libkrb5-dev"
      ],
      "metadata": {
        "id": "urnaYZKcwXQX"
      },
      "execution_count": 2,
      "outputs": []
    },
    {
      "cell_type": "code",
      "source": [
        "import numpy as np\n",
        "import pandas as pd\n",
        "import matplotlib.pyplot as plt\n",
        "import sqlite3\n",
        "import seaborn as sns\n",
        "import sklearn\n",
        "import time\n",
        "import os\n",
        "os.environ['SPARK_HOME'] = \"/content/spark-3.1.2-bin-hadoop3.2\"\n",
        "import pyspark\n",
        "from pyspark.ml import Pipeline\n",
        "from pyspark.ml.feature import StringIndexer\n",
        "from pyspark.ml.feature import OneHotEncoder, StringIndexer, VectorAssembler, StandardScaler, StandardScalerModel\n",
        "from pyspark.ml.feature import Imputer\n",
        "from numpy.core.fromnumeric import mean\n",
        "from pyspark import SparkFiles\n",
        "from pyspark.sql import SQLContext\n",
        "from pyspark.sql import SparkSession\n",
        "from pyspark.sql.types import *\n",
        "from pyspark.sql.types import IntegerType\n",
        "import pyspark.sql.functions as F\n",
        "from pyspark.sql.functions import *\n",
        "from pyspark.sql.functions import isnan, when, count, col, avg\n",
        "plt.rcParams['figure.figsize'] = (10, 10)"
      ],
      "metadata": {
        "id": "XqVIybWbwZoN"
      },
      "execution_count": 3,
      "outputs": []
    },
    {
      "cell_type": "code",
      "source": [
        "try:\n",
        "    if(spark == None):\n",
        "        spark = SparkSession.builder.appName('stroke_prediction').getOrCreate()\n",
        "except NameError:\n",
        "    spark = SparkSession.builder.appName('stroke_prediction').getOrCreate()\n",
        "\n",
        "sqlContext=SQLContext(spark)"
      ],
      "metadata": {
        "colab": {
          "base_uri": "https://localhost:8080/"
        },
        "id": "il-2qvvSwnQ8",
        "outputId": "35a9d874-4a7c-4d28-b6e5-8ea495150e27"
      },
      "execution_count": 4,
      "outputs": [
        {
          "output_type": "stream",
          "name": "stderr",
          "text": [
            "/usr/local/lib/python3.7/dist-packages/pyspark/sql/context.py:79: FutureWarning: Deprecated in 3.0.0. Use SparkSession.builder.getOrCreate() instead.\n",
            "  FutureWarning\n"
          ]
        }
      ]
    },
    {
      "cell_type": "code",
      "source": [
        "url = ('https://github.com/GouthamJagadeesha/BDA_Technical_Project_L00157174/blob/main/healthcare-dataset-stroke-data.csv?raw=true')"
      ],
      "metadata": {
        "id": "lAdwUIdjwqlC"
      },
      "execution_count": 5,
      "outputs": []
    },
    {
      "cell_type": "code",
      "source": [
        "spark.sparkContext.addFile(url)\n",
        "df = spark.read.csv(SparkFiles.get(\"healthcare-dataset-stroke-data.csv\"), header=True, inferSchema=True)\n",
        "df = df.drop('id')\n",
        "df.show()\n",
        "\n",
        "# extracting number of rows from the Dataframe\n",
        "row = df.count()\n",
        "\n",
        "# extracting number of columns from the Dataframe\n",
        "col = len(df.columns)\n",
        " \n",
        "# printing\n",
        "print(f'Dimension of the Dataframe is: {(row,col)}')\n",
        "print(f'Number of Rows are: {row}')\n",
        "print(f'Number of Columns are: {col}')\n",
        "\n",
        "df.printSchema()"
      ],
      "metadata": {
        "colab": {
          "base_uri": "https://localhost:8080/"
        },
        "id": "dIWyhdVnwrFi",
        "outputId": "00de9689-7f57-4436-fd31-dd649dc658fe"
      },
      "execution_count": 6,
      "outputs": [
        {
          "output_type": "stream",
          "name": "stdout",
          "text": [
            "+------+----+------------+-------------+------------+-------------+--------------+-----------------+----+---------------+------+\n",
            "|gender| age|hypertension|heart_disease|ever_married|    work_type|Residence_type|avg_glucose_level| bmi| smoking_status|stroke|\n",
            "+------+----+------------+-------------+------------+-------------+--------------+-----------------+----+---------------+------+\n",
            "|  Male|67.0|           0|            1|         Yes|      Private|         Urban|           228.69|36.6|formerly smoked|     1|\n",
            "|Female|61.0|           0|            0|         Yes|Self-employed|         Rural|           202.21| N/A|   never smoked|     1|\n",
            "|  Male|80.0|           0|            1|         Yes|      Private|         Rural|           105.92|32.5|   never smoked|     1|\n",
            "|Female|49.0|           0|            0|         Yes|      Private|         Urban|           171.23|34.4|         smokes|     1|\n",
            "|Female|79.0|           1|            0|         Yes|Self-employed|         Rural|           174.12|  24|   never smoked|     1|\n",
            "|  Male|81.0|           0|            0|         Yes|      Private|         Urban|           186.21|  29|formerly smoked|     1|\n",
            "|  Male|74.0|           1|            1|         Yes|      Private|         Rural|            70.09|27.4|   never smoked|     1|\n",
            "|Female|69.0|           0|            0|          No|      Private|         Urban|            94.39|22.8|   never smoked|     1|\n",
            "|Female|59.0|           0|            0|         Yes|      Private|         Rural|            76.15| N/A|        Unknown|     1|\n",
            "|Female|78.0|           0|            0|         Yes|      Private|         Urban|            58.57|24.2|        Unknown|     1|\n",
            "|Female|81.0|           1|            0|         Yes|      Private|         Rural|            80.43|29.7|   never smoked|     1|\n",
            "|Female|61.0|           0|            1|         Yes|     Govt_job|         Rural|           120.46|36.8|         smokes|     1|\n",
            "|Female|54.0|           0|            0|         Yes|      Private|         Urban|           104.51|27.3|         smokes|     1|\n",
            "|  Male|78.0|           0|            1|         Yes|      Private|         Urban|           219.84| N/A|        Unknown|     1|\n",
            "|Female|79.0|           0|            1|         Yes|      Private|         Urban|           214.09|28.2|   never smoked|     1|\n",
            "|Female|50.0|           1|            0|         Yes|Self-employed|         Rural|           167.41|30.9|   never smoked|     1|\n",
            "|  Male|64.0|           0|            1|         Yes|      Private|         Urban|           191.61|37.5|         smokes|     1|\n",
            "|  Male|75.0|           1|            0|         Yes|      Private|         Urban|           221.29|25.8|         smokes|     1|\n",
            "|Female|60.0|           0|            0|          No|      Private|         Urban|            89.22|37.8|   never smoked|     1|\n",
            "|  Male|57.0|           0|            1|          No|     Govt_job|         Urban|           217.08| N/A|        Unknown|     1|\n",
            "+------+----+------------+-------------+------------+-------------+--------------+-----------------+----+---------------+------+\n",
            "only showing top 20 rows\n",
            "\n",
            "Dimension of the Dataframe is: (5110, 11)\n",
            "Number of Rows are: 5110\n",
            "Number of Columns are: 11\n",
            "root\n",
            " |-- gender: string (nullable = true)\n",
            " |-- age: double (nullable = true)\n",
            " |-- hypertension: integer (nullable = true)\n",
            " |-- heart_disease: integer (nullable = true)\n",
            " |-- ever_married: string (nullable = true)\n",
            " |-- work_type: string (nullable = true)\n",
            " |-- Residence_type: string (nullable = true)\n",
            " |-- avg_glucose_level: double (nullable = true)\n",
            " |-- bmi: string (nullable = true)\n",
            " |-- smoking_status: string (nullable = true)\n",
            " |-- stroke: integer (nullable = true)\n",
            "\n"
          ]
        }
      ]
    },
    {
      "cell_type": "code",
      "source": [
        "cols = df.columns"
      ],
      "metadata": {
        "id": "IvYaMNtEz6FQ"
      },
      "execution_count": 7,
      "outputs": []
    },
    {
      "cell_type": "code",
      "source": [
        "numericCols = [field.name for field in df.schema.fields if isinstance(field.dataType, IntegerType) or isinstance(field.dataType, DoubleType)]\n",
        "numericCols"
      ],
      "metadata": {
        "colab": {
          "base_uri": "https://localhost:8080/"
        },
        "id": "3XlqyfwDwtjE",
        "outputId": "38100161-6dee-4ada-91d1-f24a0f47c2f6"
      },
      "execution_count": 8,
      "outputs": [
        {
          "output_type": "execute_result",
          "data": {
            "text/plain": [
              "['age', 'hypertension', 'heart_disease', 'avg_glucose_level', 'stroke']"
            ]
          },
          "metadata": {},
          "execution_count": 8
        }
      ]
    },
    {
      "cell_type": "code",
      "source": [
        "categoricalColumns = [field.name for field in df.schema.fields if isinstance(field.dataType, StringType)]\n",
        "categoricalColumns"
      ],
      "metadata": {
        "colab": {
          "base_uri": "https://localhost:8080/"
        },
        "id": "Duxc8kCGy9S8",
        "outputId": "25063fe8-39f4-426b-c749-dbf64785ead5"
      },
      "execution_count": 9,
      "outputs": [
        {
          "output_type": "execute_result",
          "data": {
            "text/plain": [
              "['gender',\n",
              " 'ever_married',\n",
              " 'work_type',\n",
              " 'Residence_type',\n",
              " 'bmi',\n",
              " 'smoking_status']"
            ]
          },
          "metadata": {},
          "execution_count": 9
        }
      ]
    },
    {
      "cell_type": "code",
      "source": [
        "data=pd.read_csv(url)\n",
        "data.info()"
      ],
      "metadata": {
        "colab": {
          "base_uri": "https://localhost:8080/"
        },
        "id": "xcthL3sL27_w",
        "outputId": "45d61dc8-87ce-4087-e666-60de71bcf235"
      },
      "execution_count": 10,
      "outputs": [
        {
          "output_type": "stream",
          "name": "stdout",
          "text": [
            "<class 'pandas.core.frame.DataFrame'>\n",
            "RangeIndex: 5110 entries, 0 to 5109\n",
            "Data columns (total 12 columns):\n",
            " #   Column             Non-Null Count  Dtype  \n",
            "---  ------             --------------  -----  \n",
            " 0   id                 5110 non-null   int64  \n",
            " 1   gender             5110 non-null   object \n",
            " 2   age                5110 non-null   float64\n",
            " 3   hypertension       5110 non-null   int64  \n",
            " 4   heart_disease      5110 non-null   int64  \n",
            " 5   ever_married       5110 non-null   object \n",
            " 6   work_type          5110 non-null   object \n",
            " 7   Residence_type     5110 non-null   object \n",
            " 8   avg_glucose_level  5110 non-null   float64\n",
            " 9   bmi                4909 non-null   float64\n",
            " 10  smoking_status     5110 non-null   object \n",
            " 11  stroke             5110 non-null   int64  \n",
            "dtypes: float64(3), int64(4), object(5)\n",
            "memory usage: 479.2+ KB\n"
          ]
        }
      ]
    },
    {
      "cell_type": "code",
      "source": [
        "#Checking null value sum\n",
        "data.isnull().sum()"
      ],
      "metadata": {
        "colab": {
          "base_uri": "https://localhost:8080/"
        },
        "id": "2j3ksTul2_TO",
        "outputId": "afef4968-aaee-4b95-a95b-de735b6398d8"
      },
      "execution_count": 11,
      "outputs": [
        {
          "output_type": "execute_result",
          "data": {
            "text/plain": [
              "id                     0\n",
              "gender                 0\n",
              "age                    0\n",
              "hypertension           0\n",
              "heart_disease          0\n",
              "ever_married           0\n",
              "work_type              0\n",
              "Residence_type         0\n",
              "avg_glucose_level      0\n",
              "bmi                  201\n",
              "smoking_status         0\n",
              "stroke                 0\n",
              "dtype: int64"
            ]
          },
          "metadata": {},
          "execution_count": 11
        }
      ]
    },
    {
      "cell_type": "code",
      "source": [
        "null_list = ['not_set', 'n/a', 'N/A']\n",
        "from pyspark.sql.functions import col    \n",
        "df =  df.withColumn(\n",
        "    \"bmi\",\n",
        "    when(\n",
        "        col(\"bmi\").isin(null_list),\n",
        "        None\n",
        "    ).otherwise(col(\"bmi\"))\n",
        ")\n",
        "#filling mean values to column\n",
        "df = df.withColumn(\"bmi\", df[\"bmi\"].cast(IntegerType()))\n",
        "df.describe('bmi').show()\n",
        "imputer = Imputer(\n",
        "    inputCols=['bmi'], \n",
        "    outputCols=[\"{}_imputed\".format(c) for c in ['bmi']]\n",
        ").setStrategy(\"mean\")\n",
        "\n",
        "# Adding imputation cols to df\n",
        "df = imputer.fit(df).transform(df)\n",
        "\n",
        "columns_to_drop = ['id', 'bmi']\n",
        "df = df.drop(*columns_to_drop)\n",
        "df = df.withColumnRenamed(\"bmi_imputed\",\"bmi\")\n",
        "df.show()"
      ],
      "metadata": {
        "colab": {
          "base_uri": "https://localhost:8080/"
        },
        "id": "acizTI-M3DfD",
        "outputId": "1bbe9c66-304c-49d5-d82e-0bdb82641651"
      },
      "execution_count": 12,
      "outputs": [
        {
          "output_type": "stream",
          "name": "stdout",
          "text": [
            "+-------+------------------+\n",
            "|summary|               bmi|\n",
            "+-------+------------------+\n",
            "|  count|              4909|\n",
            "|   mean|28.448563862293746|\n",
            "| stddev| 7.843833618220339|\n",
            "|    min|                10|\n",
            "|    max|                97|\n",
            "+-------+------------------+\n",
            "\n",
            "+------+----+------------+-------------+------------+-------------+--------------+-----------------+---------------+------+---+\n",
            "|gender| age|hypertension|heart_disease|ever_married|    work_type|Residence_type|avg_glucose_level| smoking_status|stroke|bmi|\n",
            "+------+----+------------+-------------+------------+-------------+--------------+-----------------+---------------+------+---+\n",
            "|  Male|67.0|           0|            1|         Yes|      Private|         Urban|           228.69|formerly smoked|     1| 36|\n",
            "|Female|61.0|           0|            0|         Yes|Self-employed|         Rural|           202.21|   never smoked|     1| 28|\n",
            "|  Male|80.0|           0|            1|         Yes|      Private|         Rural|           105.92|   never smoked|     1| 32|\n",
            "|Female|49.0|           0|            0|         Yes|      Private|         Urban|           171.23|         smokes|     1| 34|\n",
            "|Female|79.0|           1|            0|         Yes|Self-employed|         Rural|           174.12|   never smoked|     1| 24|\n",
            "|  Male|81.0|           0|            0|         Yes|      Private|         Urban|           186.21|formerly smoked|     1| 29|\n",
            "|  Male|74.0|           1|            1|         Yes|      Private|         Rural|            70.09|   never smoked|     1| 27|\n",
            "|Female|69.0|           0|            0|          No|      Private|         Urban|            94.39|   never smoked|     1| 22|\n",
            "|Female|59.0|           0|            0|         Yes|      Private|         Rural|            76.15|        Unknown|     1| 28|\n",
            "|Female|78.0|           0|            0|         Yes|      Private|         Urban|            58.57|        Unknown|     1| 24|\n",
            "|Female|81.0|           1|            0|         Yes|      Private|         Rural|            80.43|   never smoked|     1| 29|\n",
            "|Female|61.0|           0|            1|         Yes|     Govt_job|         Rural|           120.46|         smokes|     1| 36|\n",
            "|Female|54.0|           0|            0|         Yes|      Private|         Urban|           104.51|         smokes|     1| 27|\n",
            "|  Male|78.0|           0|            1|         Yes|      Private|         Urban|           219.84|        Unknown|     1| 28|\n",
            "|Female|79.0|           0|            1|         Yes|      Private|         Urban|           214.09|   never smoked|     1| 28|\n",
            "|Female|50.0|           1|            0|         Yes|Self-employed|         Rural|           167.41|   never smoked|     1| 30|\n",
            "|  Male|64.0|           0|            1|         Yes|      Private|         Urban|           191.61|         smokes|     1| 37|\n",
            "|  Male|75.0|           1|            0|         Yes|      Private|         Urban|           221.29|         smokes|     1| 25|\n",
            "|Female|60.0|           0|            0|          No|      Private|         Urban|            89.22|   never smoked|     1| 37|\n",
            "|  Male|57.0|           0|            1|          No|     Govt_job|         Urban|           217.08|        Unknown|     1| 28|\n",
            "+------+----+------------+-------------+------------+-------------+--------------+-----------------+---------------+------+---+\n",
            "only showing top 20 rows\n",
            "\n"
          ]
        }
      ]
    },
    {
      "cell_type": "code",
      "source": [
        "categoricalColumns = ['gender',\n",
        " 'ever_married',\n",
        " 'work_type',\n",
        " 'Residence_type',\n",
        " 'bmi',\n",
        " 'smoking_status']\n",
        "stages = []\n",
        "for categoricalCol in categoricalColumns:\n",
        "    stringIndexer = StringIndexer(inputCol = categoricalCol, outputCol = categoricalCol + 'Index')\n",
        "    encoder = OneHotEncoder(inputCols=[stringIndexer.getOutputCol()], outputCols=[ categoricalCol + \"classVec\"])\n",
        "    stages += [stringIndexer, encoder]\n",
        "label_stringIdx = StringIndexer(inputCol = 'stroke', outputCol = 'label')\n",
        "stages += [label_stringIdx]\n",
        "numericCols = ['age', 'hypertension', 'heart_disease', 'avg_glucose_level']\n",
        "assemblerInputs = [c + \"classVec\" for c in categoricalColumns] + numericCols\n",
        "assembler = VectorAssembler(inputCols=assemblerInputs, outputCol=\"features\")\n",
        "stages += [assembler]"
      ],
      "metadata": {
        "id": "oIAbWtH9yscW"
      },
      "execution_count": 13,
      "outputs": []
    },
    {
      "cell_type": "code",
      "source": [
        "from pyspark.ml import Pipeline\n",
        "pipeline = Pipeline(stages = stages)\n",
        "pipelineModel = pipeline.fit(df)\n",
        "df = pipelineModel.transform(df)\n",
        "selectedCols = ['label', 'features'] + cols\n",
        "df = df.select(selectedCols)\n",
        "df.printSchema()"
      ],
      "metadata": {
        "id": "GYRSYf1Xzw2_",
        "colab": {
          "base_uri": "https://localhost:8080/"
        },
        "outputId": "78e43671-0442-4cc6-fd5b-eb7cca803545"
      },
      "execution_count": 14,
      "outputs": [
        {
          "output_type": "stream",
          "name": "stdout",
          "text": [
            "root\n",
            " |-- label: double (nullable = false)\n",
            " |-- features: vector (nullable = true)\n",
            " |-- gender: string (nullable = true)\n",
            " |-- age: double (nullable = true)\n",
            " |-- hypertension: integer (nullable = true)\n",
            " |-- heart_disease: integer (nullable = true)\n",
            " |-- ever_married: string (nullable = true)\n",
            " |-- work_type: string (nullable = true)\n",
            " |-- Residence_type: string (nullable = true)\n",
            " |-- avg_glucose_level: double (nullable = true)\n",
            " |-- bmi: integer (nullable = true)\n",
            " |-- smoking_status: string (nullable = true)\n",
            " |-- stroke: integer (nullable = true)\n",
            "\n"
          ]
        }
      ]
    },
    {
      "cell_type": "code",
      "source": [
        "pd.DataFrame(df.take(5), columns=df.columns).transpose()"
      ],
      "metadata": {
        "colab": {
          "base_uri": "https://localhost:8080/",
          "height": 457
        },
        "id": "iWMQGmD00XCl",
        "outputId": "c81fab27-83e1-4f76-b711-f354bb3ce0e5"
      },
      "execution_count": 15,
      "outputs": [
        {
          "output_type": "execute_result",
          "data": {
            "text/html": [
              "\n",
              "  <div id=\"df-cdd0a7cf-60db-41a6-87dc-42294ab16424\">\n",
              "    <div class=\"colab-df-container\">\n",
              "      <div>\n",
              "<style scoped>\n",
              "    .dataframe tbody tr th:only-of-type {\n",
              "        vertical-align: middle;\n",
              "    }\n",
              "\n",
              "    .dataframe tbody tr th {\n",
              "        vertical-align: top;\n",
              "    }\n",
              "\n",
              "    .dataframe thead th {\n",
              "        text-align: right;\n",
              "    }\n",
              "</style>\n",
              "<table border=\"1\" class=\"dataframe\">\n",
              "  <thead>\n",
              "    <tr style=\"text-align: right;\">\n",
              "      <th></th>\n",
              "      <th>0</th>\n",
              "      <th>1</th>\n",
              "      <th>2</th>\n",
              "      <th>3</th>\n",
              "      <th>4</th>\n",
              "    </tr>\n",
              "  </thead>\n",
              "  <tbody>\n",
              "    <tr>\n",
              "      <th>label</th>\n",
              "      <td>1.0</td>\n",
              "      <td>1.0</td>\n",
              "      <td>1.0</td>\n",
              "      <td>1.0</td>\n",
              "      <td>1.0</td>\n",
              "    </tr>\n",
              "    <tr>\n",
              "      <th>features</th>\n",
              "      <td>(0.0, 1.0, 1.0, 1.0, 0.0, 0.0, 0.0, 1.0, 0.0, ...</td>\n",
              "      <td>(1.0, 0.0, 1.0, 0.0, 1.0, 0.0, 0.0, 0.0, 1.0, ...</td>\n",
              "      <td>(0.0, 1.0, 1.0, 1.0, 0.0, 0.0, 0.0, 0.0, 0.0, ...</td>\n",
              "      <td>(1.0, 0.0, 1.0, 1.0, 0.0, 0.0, 0.0, 1.0, 0.0, ...</td>\n",
              "      <td>(1.0, 0.0, 1.0, 0.0, 1.0, 0.0, 0.0, 0.0, 0.0, ...</td>\n",
              "    </tr>\n",
              "    <tr>\n",
              "      <th>gender</th>\n",
              "      <td>Male</td>\n",
              "      <td>Female</td>\n",
              "      <td>Male</td>\n",
              "      <td>Female</td>\n",
              "      <td>Female</td>\n",
              "    </tr>\n",
              "    <tr>\n",
              "      <th>age</th>\n",
              "      <td>67.0</td>\n",
              "      <td>61.0</td>\n",
              "      <td>80.0</td>\n",
              "      <td>49.0</td>\n",
              "      <td>79.0</td>\n",
              "    </tr>\n",
              "    <tr>\n",
              "      <th>hypertension</th>\n",
              "      <td>0</td>\n",
              "      <td>0</td>\n",
              "      <td>0</td>\n",
              "      <td>0</td>\n",
              "      <td>1</td>\n",
              "    </tr>\n",
              "    <tr>\n",
              "      <th>heart_disease</th>\n",
              "      <td>1</td>\n",
              "      <td>0</td>\n",
              "      <td>1</td>\n",
              "      <td>0</td>\n",
              "      <td>0</td>\n",
              "    </tr>\n",
              "    <tr>\n",
              "      <th>ever_married</th>\n",
              "      <td>Yes</td>\n",
              "      <td>Yes</td>\n",
              "      <td>Yes</td>\n",
              "      <td>Yes</td>\n",
              "      <td>Yes</td>\n",
              "    </tr>\n",
              "    <tr>\n",
              "      <th>work_type</th>\n",
              "      <td>Private</td>\n",
              "      <td>Self-employed</td>\n",
              "      <td>Private</td>\n",
              "      <td>Private</td>\n",
              "      <td>Self-employed</td>\n",
              "    </tr>\n",
              "    <tr>\n",
              "      <th>Residence_type</th>\n",
              "      <td>Urban</td>\n",
              "      <td>Rural</td>\n",
              "      <td>Rural</td>\n",
              "      <td>Urban</td>\n",
              "      <td>Rural</td>\n",
              "    </tr>\n",
              "    <tr>\n",
              "      <th>avg_glucose_level</th>\n",
              "      <td>228.69</td>\n",
              "      <td>202.21</td>\n",
              "      <td>105.92</td>\n",
              "      <td>171.23</td>\n",
              "      <td>174.12</td>\n",
              "    </tr>\n",
              "    <tr>\n",
              "      <th>bmi</th>\n",
              "      <td>36</td>\n",
              "      <td>28</td>\n",
              "      <td>32</td>\n",
              "      <td>34</td>\n",
              "      <td>24</td>\n",
              "    </tr>\n",
              "    <tr>\n",
              "      <th>smoking_status</th>\n",
              "      <td>formerly smoked</td>\n",
              "      <td>never smoked</td>\n",
              "      <td>never smoked</td>\n",
              "      <td>smokes</td>\n",
              "      <td>never smoked</td>\n",
              "    </tr>\n",
              "    <tr>\n",
              "      <th>stroke</th>\n",
              "      <td>1</td>\n",
              "      <td>1</td>\n",
              "      <td>1</td>\n",
              "      <td>1</td>\n",
              "      <td>1</td>\n",
              "    </tr>\n",
              "  </tbody>\n",
              "</table>\n",
              "</div>\n",
              "      <button class=\"colab-df-convert\" onclick=\"convertToInteractive('df-cdd0a7cf-60db-41a6-87dc-42294ab16424')\"\n",
              "              title=\"Convert this dataframe to an interactive table.\"\n",
              "              style=\"display:none;\">\n",
              "        \n",
              "  <svg xmlns=\"http://www.w3.org/2000/svg\" height=\"24px\"viewBox=\"0 0 24 24\"\n",
              "       width=\"24px\">\n",
              "    <path d=\"M0 0h24v24H0V0z\" fill=\"none\"/>\n",
              "    <path d=\"M18.56 5.44l.94 2.06.94-2.06 2.06-.94-2.06-.94-.94-2.06-.94 2.06-2.06.94zm-11 1L8.5 8.5l.94-2.06 2.06-.94-2.06-.94L8.5 2.5l-.94 2.06-2.06.94zm10 10l.94 2.06.94-2.06 2.06-.94-2.06-.94-.94-2.06-.94 2.06-2.06.94z\"/><path d=\"M17.41 7.96l-1.37-1.37c-.4-.4-.92-.59-1.43-.59-.52 0-1.04.2-1.43.59L10.3 9.45l-7.72 7.72c-.78.78-.78 2.05 0 2.83L4 21.41c.39.39.9.59 1.41.59.51 0 1.02-.2 1.41-.59l7.78-7.78 2.81-2.81c.8-.78.8-2.07 0-2.86zM5.41 20L4 18.59l7.72-7.72 1.47 1.35L5.41 20z\"/>\n",
              "  </svg>\n",
              "      </button>\n",
              "      \n",
              "  <style>\n",
              "    .colab-df-container {\n",
              "      display:flex;\n",
              "      flex-wrap:wrap;\n",
              "      gap: 12px;\n",
              "    }\n",
              "\n",
              "    .colab-df-convert {\n",
              "      background-color: #E8F0FE;\n",
              "      border: none;\n",
              "      border-radius: 50%;\n",
              "      cursor: pointer;\n",
              "      display: none;\n",
              "      fill: #1967D2;\n",
              "      height: 32px;\n",
              "      padding: 0 0 0 0;\n",
              "      width: 32px;\n",
              "    }\n",
              "\n",
              "    .colab-df-convert:hover {\n",
              "      background-color: #E2EBFA;\n",
              "      box-shadow: 0px 1px 2px rgba(60, 64, 67, 0.3), 0px 1px 3px 1px rgba(60, 64, 67, 0.15);\n",
              "      fill: #174EA6;\n",
              "    }\n",
              "\n",
              "    [theme=dark] .colab-df-convert {\n",
              "      background-color: #3B4455;\n",
              "      fill: #D2E3FC;\n",
              "    }\n",
              "\n",
              "    [theme=dark] .colab-df-convert:hover {\n",
              "      background-color: #434B5C;\n",
              "      box-shadow: 0px 1px 3px 1px rgba(0, 0, 0, 0.15);\n",
              "      filter: drop-shadow(0px 1px 2px rgba(0, 0, 0, 0.3));\n",
              "      fill: #FFFFFF;\n",
              "    }\n",
              "  </style>\n",
              "\n",
              "      <script>\n",
              "        const buttonEl =\n",
              "          document.querySelector('#df-cdd0a7cf-60db-41a6-87dc-42294ab16424 button.colab-df-convert');\n",
              "        buttonEl.style.display =\n",
              "          google.colab.kernel.accessAllowed ? 'block' : 'none';\n",
              "\n",
              "        async function convertToInteractive(key) {\n",
              "          const element = document.querySelector('#df-cdd0a7cf-60db-41a6-87dc-42294ab16424');\n",
              "          const dataTable =\n",
              "            await google.colab.kernel.invokeFunction('convertToInteractive',\n",
              "                                                     [key], {});\n",
              "          if (!dataTable) return;\n",
              "\n",
              "          const docLinkHtml = 'Like what you see? Visit the ' +\n",
              "            '<a target=\"_blank\" href=https://colab.research.google.com/notebooks/data_table.ipynb>data table notebook</a>'\n",
              "            + ' to learn more about interactive tables.';\n",
              "          element.innerHTML = '';\n",
              "          dataTable['output_type'] = 'display_data';\n",
              "          await google.colab.output.renderOutput(dataTable, element);\n",
              "          const docLink = document.createElement('div');\n",
              "          docLink.innerHTML = docLinkHtml;\n",
              "          element.appendChild(docLink);\n",
              "        }\n",
              "      </script>\n",
              "    </div>\n",
              "  </div>\n",
              "  "
            ],
            "text/plain": [
              "                                                                   0  ...                                                  4\n",
              "label                                                            1.0  ...                                                1.0\n",
              "features           (0.0, 1.0, 1.0, 1.0, 0.0, 0.0, 0.0, 1.0, 0.0, ...  ...  (1.0, 0.0, 1.0, 0.0, 1.0, 0.0, 0.0, 0.0, 0.0, ...\n",
              "gender                                                          Male  ...                                             Female\n",
              "age                                                             67.0  ...                                               79.0\n",
              "hypertension                                                       0  ...                                                  1\n",
              "heart_disease                                                      1  ...                                                  0\n",
              "ever_married                                                     Yes  ...                                                Yes\n",
              "work_type                                                    Private  ...                                      Self-employed\n",
              "Residence_type                                                 Urban  ...                                              Rural\n",
              "avg_glucose_level                                             228.69  ...                                             174.12\n",
              "bmi                                                               36  ...                                                 24\n",
              "smoking_status                                       formerly smoked  ...                                       never smoked\n",
              "stroke                                                             1  ...                                                  1\n",
              "\n",
              "[13 rows x 5 columns]"
            ]
          },
          "metadata": {},
          "execution_count": 15
        }
      ]
    },
    {
      "cell_type": "code",
      "source": [
        "train, test = df.randomSplit([0.7, 0.3], seed = 2022)\n",
        "print(\"Training Dataset Count: \" + str(train.count()))\n",
        "print(\"Test Dataset Count: \" + str(test.count()))"
      ],
      "metadata": {
        "colab": {
          "base_uri": "https://localhost:8080/"
        },
        "id": "b-aMHq2T0uRI",
        "outputId": "6f3a8bc2-d71c-42dd-e430-eb77bf305f95"
      },
      "execution_count": 16,
      "outputs": [
        {
          "output_type": "stream",
          "name": "stdout",
          "text": [
            "Training Dataset Count: 3540\n",
            "Test Dataset Count: 1570\n"
          ]
        }
      ]
    },
    {
      "cell_type": "code",
      "source": [
        "#USING LOGISTIC REGRESSION MODEL"
      ],
      "metadata": {
        "id": "ohPNipFC5nM0"
      },
      "execution_count": 17,
      "outputs": []
    },
    {
      "cell_type": "code",
      "source": [
        "from pyspark.ml.classification import LogisticRegression\n",
        "lr = LogisticRegression(featuresCol = 'features', labelCol = 'label', maxIter=10)\n",
        "lrModel = lr.fit(train)"
      ],
      "metadata": {
        "id": "bxN3l_2a4O46"
      },
      "execution_count": 18,
      "outputs": []
    },
    {
      "cell_type": "code",
      "source": [
        "beta = np.sort(lrModel.coefficients)\n",
        "plt.plot(beta)\n",
        "plt.ylabel('Beta Coefficients')\n",
        "plt.show()"
      ],
      "metadata": {
        "colab": {
          "base_uri": "https://localhost:8080/",
          "height": 592
        },
        "id": "TGS-tcWR4Tig",
        "outputId": "9690cdc6-c2f1-4679-d294-df47067a9881"
      },
      "execution_count": 50,
      "outputs": [
        {
          "output_type": "display_data",
          "data": {
            "image/png": "[encoded data removed]",
            "text/plain": [
              "<Figure size 720x720 with 1 Axes>"
            ]
          },
          "metadata": {
            "needs_background": "light"
          }
        }
      ]
    },
    {
      "cell_type": "code",
      "source": [
        "LRtrainingSummary = lrModel.summary\n",
        "roc = LRtrainingSummary.roc.toPandas()\n",
        "plt.plot(roc['FPR'],roc['TPR'])\n",
        "plt.ylabel('False Positive Rate')\n",
        "plt.xlabel('True Positive Rate')\n",
        "plt.title('ROC Curve')\n",
        "plt.show()\n",
        "print('Training set areaUnderROC: ' + str(LRtrainingSummary.areaUnderROC))"
      ],
      "metadata": {
        "colab": {
          "base_uri": "https://localhost:8080/",
          "height": 673
        },
        "id": "W5kZj_4p4jZO",
        "outputId": "69a36ddd-a8e9-460a-9e21-1c6bc5c333d2"
      },
      "execution_count": 20,
      "outputs": [
        {
          "output_type": "stream",
          "name": "stderr",
          "text": [
            "/usr/local/lib/python3.7/dist-packages/pyspark/sql/context.py:127: FutureWarning: Deprecated in 3.0.0. Use SparkSession.builder.getOrCreate() instead.\n",
            "  FutureWarning\n"
          ]
        },
        {
          "output_type": "display_data",
          "data": {
            "image/png": "[encoded data removed]",
            "text/plain": [
              "<Figure size 720x720 with 1 Axes>"
            ]
          },
          "metadata": {
            "needs_background": "light"
          }
        },
        {
          "output_type": "stream",
          "name": "stdout",
          "text": [
            "Training set areaUnderROC: 0.8780175084175006\n"
          ]
        }
      ]
    },
    {
      "cell_type": "code",
      "source": [
        "#Precision and recall.\n",
        "pr = LRtrainingSummary.pr.toPandas()\n",
        "plt.plot(pr['recall'],pr['precision'])\n",
        "plt.ylabel('Precision')\n",
        "plt.xlabel('Recall')\n",
        "plt.show()"
      ],
      "metadata": {
        "colab": {
          "base_uri": "https://localhost:8080/",
          "height": 641
        },
        "id": "jnz2AfP_4slT",
        "outputId": "7b1e4589-5ee4-4f99-9b19-fe746d027d5e"
      },
      "execution_count": 21,
      "outputs": [
        {
          "output_type": "stream",
          "name": "stderr",
          "text": [
            "/usr/local/lib/python3.7/dist-packages/pyspark/sql/context.py:127: FutureWarning: Deprecated in 3.0.0. Use SparkSession.builder.getOrCreate() instead.\n",
            "  FutureWarning\n"
          ]
        },
        {
          "output_type": "display_data",
          "data": {
            "image/png": "[encoded data removed]",
            "text/plain": [
              "<Figure size 720x720 with 1 Axes>"
            ]
          },
          "metadata": {
            "needs_background": "light"
          }
        }
      ]
    },
    {
      "cell_type": "code",
      "source": [
        "#Making predictions on the test set.\n",
        "LRpredictions = lrModel.transform(test)\n",
        "LRpredictions.select('label', 'rawPrediction', 'prediction', 'probability').show(10)"
      ],
      "metadata": {
        "colab": {
          "base_uri": "https://localhost:8080/"
        },
        "id": "Pi1v1pg04zAA",
        "outputId": "cceea132-a61a-41b8-ae46-df717541b1ef"
      },
      "execution_count": 48,
      "outputs": [
        {
          "output_type": "stream",
          "name": "stdout",
          "text": [
            "+-----+--------------------+----------+--------------------+\n",
            "|label|       rawPrediction|prediction|         probability|\n",
            "+-----+--------------------+----------+--------------------+\n",
            "|  0.0|[2.01111465905409...|       0.0|[0.88195911567691...|\n",
            "|  0.0|[1.63588827597173...|       0.0|[0.83697467768070...|\n",
            "|  0.0|[4.91613315918492...|       0.0|[0.99272589032023...|\n",
            "|  0.0|[4.75644089770905...|       0.0|[0.99147711440639...|\n",
            "|  0.0|[3.83752527121554...|       0.0|[0.97890761654250...|\n",
            "|  0.0|[3.47066166869446...|       0.0|[0.96984137773222...|\n",
            "|  0.0|[3.61023142893909...|       0.0|[0.97366661484887...|\n",
            "|  0.0|[2.76261795157003...|       0.0|[0.94062202124624...|\n",
            "|  0.0|[1.40514635200035...|       0.0|[0.80299926706709...|\n",
            "|  0.0|[2.11970791702552...|       0.0|[0.89280397890943...|\n",
            "+-----+--------------------+----------+--------------------+\n",
            "only showing top 10 rows\n",
            "\n"
          ]
        }
      ]
    },
    {
      "cell_type": "code",
      "source": [
        "#Evaluating our Logistic Regression model\n",
        "from pyspark.ml.evaluation import BinaryClassificationEvaluator\n",
        "evaluator = BinaryClassificationEvaluator()\n",
        "LR_accuracy = evaluator.evaluate(LRpredictions) * 100\n",
        "print('Test Area Under ROC', evaluator.evaluate(LRpredictions))"
      ],
      "metadata": {
        "colab": {
          "base_uri": "https://localhost:8080/"
        },
        "id": "Nn2rH-ph5XDG",
        "outputId": "23896af1-fa62-45dd-e2b6-9b0ce78f6644"
      },
      "execution_count": 51,
      "outputs": [
        {
          "output_type": "stream",
          "name": "stdout",
          "text": [
            "Test Area Under ROC 0.7903047490867173\n"
          ]
        }
      ]
    },
    {
      "cell_type": "code",
      "source": [
        "#USING DECISSION TREE CLASSIFIER"
      ],
      "metadata": {
        "id": "yne4RCQA5zi5"
      },
      "execution_count": 24,
      "outputs": []
    },
    {
      "cell_type": "code",
      "source": [
        "from pyspark.ml.classification import DecisionTreeClassifier\n",
        "dt = DecisionTreeClassifier(featuresCol = 'features', labelCol = 'label', maxDepth = 3)\n",
        "dtModel = dt.fit(train)\n",
        "DTpredictions = dtModel.transform(test)\n",
        "DTpredictions.select('label', 'rawPrediction', 'prediction', 'probability').show(10)"
      ],
      "metadata": {
        "colab": {
          "base_uri": "https://localhost:8080/"
        },
        "id": "KDFDBBqZ52ys",
        "outputId": "5b5d2903-418a-4ef8-b5a7-4155c618aacf"
      },
      "execution_count": 25,
      "outputs": [
        {
          "output_type": "stream",
          "name": "stdout",
          "text": [
            "+-----+-------------+----------+--------------------+\n",
            "|label|rawPrediction|prediction|         probability|\n",
            "+-----+-------------+----------+--------------------+\n",
            "|  0.0|[2827.0,56.0]|       0.0|[0.98057578910856...|\n",
            "|  0.0| [297.0,37.0]|       0.0|[0.88922155688622...|\n",
            "|  0.0|[2827.0,56.0]|       0.0|[0.98057578910856...|\n",
            "|  0.0|[2827.0,56.0]|       0.0|[0.98057578910856...|\n",
            "|  0.0|[2827.0,56.0]|       0.0|[0.98057578910856...|\n",
            "|  0.0|[2827.0,56.0]|       0.0|[0.98057578910856...|\n",
            "|  0.0|[2827.0,56.0]|       0.0|[0.98057578910856...|\n",
            "|  0.0|[2827.0,56.0]|       0.0|[0.98057578910856...|\n",
            "|  0.0| [251.0,71.0]|       0.0|[0.77950310559006...|\n",
            "|  0.0|[2827.0,56.0]|       0.0|[0.98057578910856...|\n",
            "+-----+-------------+----------+--------------------+\n",
            "only showing top 10 rows\n",
            "\n"
          ]
        }
      ]
    },
    {
      "cell_type": "code",
      "source": [
        "evaluator = BinaryClassificationEvaluator()\n",
        "DT_accuracy = evaluator.evaluate(DTpredictions) * 100\n",
        "print(\"Test Area Under ROC: \" + str(evaluator.evaluate(DTpredictions, {evaluator.metricName: \"areaUnderROC\"})))"
      ],
      "metadata": {
        "colab": {
          "base_uri": "https://localhost:8080/"
        },
        "id": "iwca-ayt6daR",
        "outputId": "74bf6788-85d5-4db2-b3cc-6ea64273104d"
      },
      "execution_count": 26,
      "outputs": [
        {
          "output_type": "stream",
          "name": "stdout",
          "text": [
            "Test Area Under ROC: 0.5224355893097481\n"
          ]
        }
      ]
    },
    {
      "cell_type": "code",
      "source": [
        "#Using Random forest Classifier"
      ],
      "metadata": {
        "id": "zhrRlMWc7Ek8"
      },
      "execution_count": 27,
      "outputs": []
    },
    {
      "cell_type": "code",
      "source": [
        "from pyspark.ml.classification import RandomForestClassifier\n",
        "rf = RandomForestClassifier(featuresCol = 'features', labelCol = 'label')\n",
        "rfModel = rf.fit(train)\n",
        "RFpredictions = rfModel.transform(test)\n",
        "RFpredictions.select('label', 'rawPrediction', 'prediction', 'probability').show(10)"
      ],
      "metadata": {
        "colab": {
          "base_uri": "https://localhost:8080/"
        },
        "id": "YxOfquqU6jPn",
        "outputId": "9e22e944-3ba4-4a85-f7aa-3f7bed114336"
      },
      "execution_count": 28,
      "outputs": [
        {
          "output_type": "stream",
          "name": "stdout",
          "text": [
            "+-----+--------------------+----------+--------------------+\n",
            "|label|       rawPrediction|prediction|         probability|\n",
            "+-----+--------------------+----------+--------------------+\n",
            "|  0.0|[18.4490321072190...|       0.0|[0.92245160536095...|\n",
            "|  0.0|[18.2311413514775...|       0.0|[0.91155706757387...|\n",
            "|  0.0|[19.0419231346861...|       0.0|[0.95209615673430...|\n",
            "|  0.0|[19.0419231346861...|       0.0|[0.95209615673430...|\n",
            "|  0.0|[19.0419231346861...|       0.0|[0.95209615673430...|\n",
            "|  0.0|[18.6749692446001...|       0.0|[0.93374846223000...|\n",
            "|  0.0|[19.0419231346861...|       0.0|[0.95209615673430...|\n",
            "|  0.0|[19.0419231346861...|       0.0|[0.95209615673430...|\n",
            "|  0.0|[18.9081864293105...|       0.0|[0.94540932146552...|\n",
            "|  0.0|[18.4979753273372...|       0.0|[0.92489876636686...|\n",
            "+-----+--------------------+----------+--------------------+\n",
            "only showing top 10 rows\n",
            "\n"
          ]
        }
      ]
    },
    {
      "cell_type": "code",
      "source": [
        "evaluator = BinaryClassificationEvaluator()\n",
        "RF_accuracy = evaluator.evaluate(RFpredictions) * 100\n",
        "print(\"Test Area Under ROC: \" + str(evaluator.evaluate(RFpredictions, {evaluator.metricName: \"areaUnderROC\"})))"
      ],
      "metadata": {
        "colab": {
          "base_uri": "https://localhost:8080/"
        },
        "id": "ZTddwadK6t1T",
        "outputId": "7e7a4a66-8960-44b3-b931-79959586f31b"
      },
      "execution_count": 29,
      "outputs": [
        {
          "output_type": "stream",
          "name": "stdout",
          "text": [
            "Test Area Under ROC: 0.7714381849644297\n"
          ]
        }
      ]
    },
    {
      "cell_type": "code",
      "source": [
        "#using Gradient-Boosted Tree Classifier"
      ],
      "metadata": {
        "id": "uoo7A83T7TNP"
      },
      "execution_count": 30,
      "outputs": []
    },
    {
      "cell_type": "code",
      "source": [
        "from pyspark.ml.classification import GBTClassifier\n",
        "gbt = GBTClassifier(maxIter=10)\n",
        "gbtModel = gbt.fit(train)\n",
        "GBTpredictions = gbtModel.transform(test)\n",
        "GBTpredictions.select('label', 'rawPrediction', 'prediction', 'probability').show(10)"
      ],
      "metadata": {
        "colab": {
          "base_uri": "https://localhost:8080/"
        },
        "id": "mznzbX3z7pxm",
        "outputId": "34bc7dd0-3544-4c90-90db-f483c99e6e03"
      },
      "execution_count": 31,
      "outputs": [
        {
          "output_type": "stream",
          "name": "stdout",
          "text": [
            "+-----+--------------------+----------+--------------------+\n",
            "|label|       rawPrediction|prediction|         probability|\n",
            "+-----+--------------------+----------+--------------------+\n",
            "|  0.0|[0.95285523649373...|       0.0|[0.87053647440099...|\n",
            "|  0.0|[1.23320058757404...|       0.0|[0.92175259418296...|\n",
            "|  0.0|[1.31916586586157...|       0.0|[0.93328817082177...|\n",
            "|  0.0|[1.31916586586157...|       0.0|[0.93328817082177...|\n",
            "|  0.0|[1.31179421304142...|       0.0|[0.93236434780668...|\n",
            "|  0.0|[1.31179421304142...|       0.0|[0.93236434780668...|\n",
            "|  0.0|[1.27496392182517...|       0.0|[0.92756866696116...|\n",
            "|  0.0|[0.92645312162434...|       0.0|[0.86446796827526...|\n",
            "|  0.0|[0.58760182981608...|       0.0|[0.76408431335037...|\n",
            "|  0.0|[0.54088020994807...|       0.0|[0.74682698187456...|\n",
            "+-----+--------------------+----------+--------------------+\n",
            "only showing top 10 rows\n",
            "\n"
          ]
        }
      ]
    },
    {
      "cell_type": "code",
      "source": [
        "evaluator = BinaryClassificationEvaluator()\n",
        "GBT_accuracy = evaluator.evaluate(GBTpredictions) * 100\n",
        "print(\"Test Area Under ROC: \" + str(evaluator.evaluate(GBTpredictions, {evaluator.metricName: \"areaUnderROC\"})))"
      ],
      "metadata": {
        "colab": {
          "base_uri": "https://localhost:8080/"
        },
        "id": "XuejCiLk71Oi",
        "outputId": "73b9f7b4-d4e3-40ff-9791-0747d1df8fa6"
      },
      "execution_count": 32,
      "outputs": [
        {
          "output_type": "stream",
          "name": "stdout",
          "text": [
            "Test Area Under ROC: 0.809792187399859\n"
          ]
        }
      ]
    },
    {
      "cell_type": "code",
      "source": [
        "fig = plt.figure()\n",
        "ax = fig.add_axes([0,0,1,1])\n",
        "plt.xlabel('Algorithms')\n",
        "plt.ylabel('Accuracy in %')\n",
        "alg = ['Logistic Regression', 'Decission Tree', 'Random Forest', 'Gradient Boosted Tree']\n",
        "acc = [LR_accuracy,DT_accuracy,RF_accuracy,GBT_accuracy]\n",
        "ax.bar(alg,acc)\n",
        "plt.show()"
      ],
      "metadata": {
        "colab": {
          "base_uri": "https://localhost:8080/",
          "height": 782
        },
        "id": "HgRaQy0g8ncr",
        "outputId": "fe0b26a5-9dfd-4cbd-89b9-09c73ed77060"
      },
      "execution_count": 34,
      "outputs": [
        {
          "output_type": "display_data",
          "data": {
            "image/png": "[encoded data removed]",
            "text/plain": [
              "<Figure size 720x720 with 1 Axes>"
            ]
          },
          "metadata": {
            "needs_background": "light"
          }
        }
      ]
    }
  ]
}